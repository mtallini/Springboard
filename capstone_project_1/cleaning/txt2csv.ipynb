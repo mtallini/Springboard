{
 "cells": [
  {
   "cell_type": "code",
   "execution_count": 3,
   "metadata": {},
   "outputs": [],
   "source": [
    "import numpy as np\n",
    "import pandas as pd"
   ]
  },
  {
   "cell_type": "code",
   "execution_count": 4,
   "metadata": {},
   "outputs": [],
   "source": [
    "def txtsplit(line):\n",
    "        if not line.strip():\n",
    "            pass\n",
    "        else:\n",
    "            try:\n",
    "                key, value = line.split(': ', 1)\n",
    "            except:\n",
    "                key, value = \"N/A\", np.nan\n",
    "            return (key, value)"
   ]
  },
  {
   "cell_type": "code",
   "execution_count": 5,
   "metadata": {},
   "outputs": [],
   "source": [
    "directory = \"/home/michael/Desktop/capstone_project_1/data\"\n",
    "\n",
    "fieldnames = ['product/productId', 'review/userId', 'review/profileName',\n",
    "                  'review/helpfulness', 'review/score', 'review/time', \n",
    "                  'review/summary', 'review/text']\n",
    "\n",
    "chunks = []"
   ]
  },
  {
   "cell_type": "code",
   "execution_count": null,
   "metadata": {},
   "outputs": [],
   "source": [
    "with open(directory+\"/movies.txt\", encoding='Latin-1') as f:\n",
    "    i = True\n",
    "    while i:\n",
    "        try:\n",
    "            (chunks.append(txtsplit(next(f))) for x in range(10))\n",
    "        except:\n",
    "            print(\"Error\")\n",
    "            i = False\n",
    "    \n",
    "    data_dict = dict(chunks)\n",
    "    df = pd.DataFrame.from_dict({fieldnames[0]: data_dict[fieldnames[0]], \n",
    "                          fieldnames[1]: data_dict[fieldnames[1]], \n",
    "                          fieldnames[2]: data_dict[fieldnames[2]],\n",
    "                          fieldnames[3]: data_dict[fieldnames[3]],\n",
    "                          fieldnames[4]: data_dict[fieldnames[4]],\n",
    "                          fieldnames[5]: data_dict[fieldnames[5]],\n",
    "                          fieldnames[6]: data_dict[fieldnames[6]],\n",
    "                          fieldnames[7]: data_dict[fieldnames[7]]})\n",
    "    df.to_csv(directory+'/movie.csv')\n",
    "    "
   ]
  },
  {
   "cell_type": "raw",
   "metadata": {},
   "source": []
  }
 ],
 "metadata": {
  "kernelspec": {
   "display_name": "Python 3",
   "language": "python",
   "name": "python3"
  },
  "language_info": {
   "codemirror_mode": {
    "name": "ipython",
    "version": 3
   },
   "file_extension": ".py",
   "mimetype": "text/x-python",
   "name": "python",
   "nbconvert_exporter": "python",
   "pygments_lexer": "ipython3",
   "version": "3.6.8"
  }
 },
 "nbformat": 4,
 "nbformat_minor": 2
}
